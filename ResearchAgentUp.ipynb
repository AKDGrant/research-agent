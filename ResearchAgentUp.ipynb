{
  "nbformat": 4,
  "nbformat_minor": 0,
  "metadata": {
    "colab": {
      "provenance": [],
      "authorship_tag": "ABX9TyPzfgGTTTh8qtM1ONig6vfl",
      "include_colab_link": true
    },
    "kernelspec": {
      "name": "python3",
      "display_name": "Python 3"
    },
    "language_info": {
      "name": "python"
    }
  },
  "cells": [
    {
      "cell_type": "markdown",
      "metadata": {
        "id": "view-in-github",
        "colab_type": "text"
      },
      "source": [
        "<a href=\"https://colab.research.google.com/github/AKDGrant/research-agent/blob/main/ResearchAgentUp.ipynb\" target=\"_parent\"><img src=\"https://colab.research.google.com/assets/colab-badge.svg\" alt=\"Open In Colab\"/></a>"
      ]
    },
    {
      "cell_type": "code",
      "execution_count": null,
      "metadata": {
        "collapsed": true,
        "id": "50kkoOSuPQXO"
      },
      "outputs": [],
      "source": [
        "!pip install transformers accelerate langchain langchain_community ddgs --quiet"
      ]
    },
    {
      "cell_type": "code",
      "source": [
        "from google.colab import userdata\n",
        "from huggingface_hub import login\n",
        "\n",
        "from transformers import AutoTokenizer, AutoModelForSeq2SeqLM, pipeline\n",
        "from langchain_community.llms import HuggingFacePipeline\n",
        "from langchain.prompts import PromptTemplate\n",
        "from langchain.chains import LLMChain\n",
        "from ddgs import DDGS"
      ],
      "metadata": {
        "id": "66GaTmL2PSfs"
      },
      "execution_count": 2,
      "outputs": []
    },
    {
      "cell_type": "code",
      "source": [
        "HF_TOKEN = userdata.get('HF_TOKEN')\n",
        "login(token=HF_TOKEN)"
      ],
      "metadata": {
        "id": "te9POLFEPXv-"
      },
      "execution_count": 3,
      "outputs": []
    },
    {
      "cell_type": "code",
      "source": [
        "model_name = \"google/flan-t5-base\"\n",
        "\n",
        "tokenizer = AutoTokenizer.from_pretrained(model_name)\n",
        "model = AutoModelForSeq2SeqLM.from_pretrained(model_name)\n",
        "\n",
        "pipe = pipeline(\n",
        "    \"text2text-generation\",\n",
        "    model=model,\n",
        "    tokenizer=tokenizer,\n",
        "    device=0  # Use GPU if available\n",
        ")\n",
        "\n",
        "llm = HuggingFacePipeline(pipeline=pipe)"
      ],
      "metadata": {
        "collapsed": true,
        "id": "conI9f_YPeii"
      },
      "execution_count": null,
      "outputs": []
    },
    {
      "cell_type": "code",
      "source": [
        "prompt = PromptTemplate(\n",
        "    input_variables=[\"query\"],\n",
        "    template=\"Summarize the following information clearly and concisely: {query}\"\n",
        ")\n",
        "\n",
        "def search_web(query):\n",
        "    \"\"\"Search the web using DuckDuckGo and return top 3 results.\"\"\"\n",
        "    results = DDGS().text(query)\n",
        "    return [r['body'] for r in results[:3]]"
      ],
      "metadata": {
        "id": "TT2Q46bjPjbe"
      },
      "execution_count": 5,
      "outputs": []
    },
    {
      "cell_type": "code",
      "source": [
        "query = \"latest AI trends 2025\"\n",
        "\n",
        "web_results = search_web(query)\n",
        "\n",
        "if not web_results:\n",
        "    web_results = [\"No results found. Using placeholder text for demo purposes.\"]\n",
        "\n",
        "full_text = \" \".join(web_results)\n",
        "\n",
        "chain = LLMChain(llm=llm, prompt=prompt)\n",
        "response = chain.run({\"query\": full_text})\n",
        "\n",
        "print(\"=== Web Results ===\\n\")\n",
        "for i, r in enumerate(web_results, 1):\n",
        "    print(f\"Result {i}:\\n{r}\\n{'-'*50}\\n\")\n",
        "print(\"=== Summary ===\\n\")\n",
        "\n",
        "for line in response.split('. '):\n",
        "    print(f\"- {line.strip()}\")"
      ],
      "metadata": {
        "colab": {
          "base_uri": "https://localhost:8080/"
        },
        "id": "FPX_xDAOPoE3",
        "outputId": "0e270b5a-684b-4780-f274-1e141440e1e7"
      },
      "execution_count": 8,
      "outputs": [
        {
          "output_type": "stream",
          "name": "stdout",
          "text": [
            "=== Web Results ===\n",
            "\n",
            "Result 1:\n",
            "View the latest news and breaking news today for U.S., world, weather, entertainment, politics and health at CNN.com.\n",
            "--------------------------------------------------\n",
            "\n",
            "Result 2:\n",
            "Read the latest headlines, breaking news, and videos at APNews.com, the definitive source for independent journalism from every corner of the globe.\n",
            "--------------------------------------------------\n",
            "\n",
            "Result 3:\n",
            "Visit BBC News for the latest news, breaking news, video, audio and analysis. BBC News provides trusted World, U.S. and U.K. news as well as local and regional perspectives.\n",
            "--------------------------------------------------\n",
            "\n",
            "=== Summary ===\n",
            "\n",
            "- Visit CNN.com\n",
            "- Visit APNews.com\n",
            "- Visit BBC News.\n"
          ]
        }
      ]
    }
  ]
}